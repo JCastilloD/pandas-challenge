{
 "cells": [
  {
   "cell_type": "markdown",
   "metadata": {},
   "source": [
    "### Note\n",
    "* Instructions have been included for each segment. You do not have to follow them exactly, but they are included to help you think through the steps."
   ]
  },
  {
   "cell_type": "code",
   "execution_count": null,
   "metadata": {},
   "outputs": [],
   "source": [
    "# Dependencies and Setup\n",
    "import pandas as pd\n",
    "\n",
    "# File to Load\n",
    "file_to_load = \"Resources/purchase_data.csv\"\n",
    "\n",
    "# Read Purchasing File and store into Pandas data frame\n",
    "purchase_data = pd.read_csv(file_to_load,index_col=None)\n",
    "\n",
    "purchase_data"
   ]
  },
  {
   "cell_type": "markdown",
   "metadata": {},
   "source": [
    "## Player Count"
   ]
  },
  {
   "cell_type": "markdown",
   "metadata": {},
   "source": [
    "* Display the total number of players\n"
   ]
  },
  {
   "cell_type": "code",
   "execution_count": null,
   "metadata": {},
   "outputs": [],
   "source": [
    "pd.DataFrame({\"Total Players\":[len(purchase_data[\"SN\"].value_counts())]})"
   ]
  },
  {
   "cell_type": "markdown",
   "metadata": {},
   "source": [
    "## Purchasing Analysis (Total)"
   ]
  },
  {
   "cell_type": "markdown",
   "metadata": {},
   "source": [
    "* Run basic calculations to obtain number of unique items, average price, etc.\n",
    "\n",
    "\n",
    "* Create a summary data frame to hold the results\n",
    "\n",
    "\n",
    "* Optional: give the displayed data cleaner formatting\n",
    "\n",
    "\n",
    "* Display the summary data frame\n"
   ]
  },
  {
   "cell_type": "code",
   "execution_count": null,
   "metadata": {
    "scrolled": true
   },
   "outputs": [],
   "source": [
    "pd.DataFrame({\"Number of Unique Items\":[len(purchase_data[\"Item ID\"].value_counts())],\n",
    "              \"Average Price\":f'${round(purchase_data[\"Price\"].mean(),2)}',\n",
    "             \"Number of Purchases\":purchase_data[\"Item ID\"].count(),\n",
    "             \"Total Revenue\":f'${purchase_data[\"Price\"].sum()}'})"
   ]
  },
  {
   "cell_type": "markdown",
   "metadata": {},
   "source": [
    "## Gender Demographics"
   ]
  },
  {
   "cell_type": "markdown",
   "metadata": {},
   "source": [
    "* Percentage and Count of Male Players\n",
    "\n",
    "\n",
    "* Percentage and Count of Female Players\n",
    "\n",
    "\n",
    "* Percentage and Count of Other / Non-Disclosed\n",
    "\n",
    "\n"
   ]
  },
  {
   "cell_type": "code",
   "execution_count": null,
   "metadata": {},
   "outputs": [],
   "source": [
    "GenderData=purchase_data.groupby(\"Gender\")\n",
    "GenderCount=pd.DataFrame({\"Total Count\":GenderData[\"SN\"].nunique(),\n",
    "                          \"Percentage of Players\":(GenderData[\"SN\"].nunique()/GenderData[\"SN\"].nunique().sum())*100})\n",
    "GenderCount[[\"Percentage of Players\"]]=GenderCount[[\"Percentage of Players\"]].applymap(\"{0:.2f}%\".format)\n",
    "GenderCount"
   ]
  },
  {
   "cell_type": "markdown",
   "metadata": {},
   "source": [
    "\n",
    "## Purchasing Analysis (Gender)"
   ]
  },
  {
   "cell_type": "markdown",
   "metadata": {},
   "source": [
    "* Run basic calculations to obtain purchase count, avg. purchase price, avg. purchase total per person etc. by gender\n",
    "\n",
    "\n",
    "\n",
    "\n",
    "* Create a summary data frame to hold the results\n",
    "\n",
    "\n",
    "* Optional: give the displayed data cleaner formatting\n",
    "\n",
    "\n",
    "* Display the summary data frame"
   ]
  },
  {
   "cell_type": "code",
   "execution_count": null,
   "metadata": {},
   "outputs": [],
   "source": [
    "SNPurchase=purchase_data.groupby([\"Gender\",\"SN\"])\n",
    "SNPurchase=SNPurchase[\"Price\"].sum().reset_index()\n",
    "SNPurchase=SNPurchase.groupby(\"Gender\")\n",
    "\n",
    "\n",
    "GenderPurchase=pd.DataFrame({\"Purchase Count\":GenderData[\"SN\"].count(),\n",
    "                \"Average Purchase Price\":GenderData[\"Price\"].mean(),\n",
    "                \"Total Purchase Value\":GenderData[\"Price\"].sum(),\n",
    "                \"Avg Total Purchase per Person\":SNPurchase[\"Price\"].mean()})\n",
    "\n",
    "GenderPurchase[[\"Average Purchase Price\",\"Total Purchase Value\",\"Avg Total Purchase per Person\"]]=GenderPurchase[[\"Average Purchase Price\",\"Total Purchase Value\",\"Avg Total Purchase per Person\"]].applymap(\"${0:.2f}\".format)\n",
    "GenderPurchase"
   ]
  },
  {
   "cell_type": "markdown",
   "metadata": {},
   "source": [
    "## Age Demographics"
   ]
  },
  {
   "cell_type": "markdown",
   "metadata": {},
   "source": [
    "* Establish bins for ages\n",
    "\n",
    "\n",
    "* Categorize the existing players using the age bins. Hint: use pd.cut()\n",
    "\n",
    "\n",
    "* Calculate the numbers and percentages by age group\n",
    "\n",
    "\n",
    "* Create a summary data frame to hold the results\n",
    "\n",
    "\n",
    "* Optional: round the percentage column to two decimal points\n",
    "\n",
    "\n",
    "* Display Age Demographics Table\n"
   ]
  },
  {
   "cell_type": "code",
   "execution_count": null,
   "metadata": {},
   "outputs": [],
   "source": [
    "bins = [0, 9, 14, 19, 24, 29, 34, 39, 200]\n",
    "groups = [\"<10\", \"10-14\", \"15-19\", \"20-24\", \"25-29\",\"30-34\",\"35-39\",\"40+\"]\n",
    "\n",
    "SNGroup=purchase_data.groupby(\"SN\")\n",
    "AgeData=[]\n",
    "AgeData=pd.DataFrame(AgeData)\n",
    "AgeData[\"Total Count\"]=pd.cut(SNGroup[\"Age\"].mean(),bins,labels=groups).value_counts().sort_index()\n",
    "AgeData[\"Percentage of Players\"]=AgeData[\"Total Count\"]/(AgeData[\"Total Count\"].sum())*100\n",
    "AgeData[[\"Percentage of Players\"]]=AgeData[[\"Percentage of Players\"]].applymap(\"{0:.2f}%\".format)\n",
    "AgeData"
   ]
  },
  {
   "cell_type": "markdown",
   "metadata": {},
   "source": [
    "## Purchasing Analysis (Age)"
   ]
  },
  {
   "cell_type": "markdown",
   "metadata": {},
   "source": [
    "* Bin the purchase_data data frame by age\n",
    "\n",
    "\n",
    "* Run basic calculations to obtain purchase count, avg. purchase price, avg. purchase total per person etc. in the table below\n",
    "\n",
    "\n",
    "* Create a summary data frame to hold the results\n",
    "\n",
    "\n",
    "* Optional: give the displayed data cleaner formatting\n",
    "\n",
    "\n",
    "* Display the summary data frame"
   ]
  },
  {
   "cell_type": "code",
   "execution_count": null,
   "metadata": {},
   "outputs": [],
   "source": [
    "purchase_data[\"Age Range\"]=pd.DataFrame(pd.cut(purchase_data[\"Age\"],bins,labels=groups))\n",
    "\n",
    "SNAge=purchase_data.groupby([\"Age Range\",\"SN\"])\n",
    "SNAge=SNAge[\"Price\"].sum().reset_index()\n",
    "SNAge=SNAge.groupby(\"Age Range\")\n",
    "\n",
    "AgeGroup=purchase_data.groupby(\"Age Range\")\n",
    "\n",
    "AgeData2=pd.DataFrame({\"Purchase Count\":AgeGroup[\"SN\"].count(),\n",
    "                       \"Average Purchase Price\":AgeGroup[\"Price\"].mean(),\n",
    "                       \"Total Purchase Value\":AgeGroup[\"Price\"].sum(),\n",
    "                       \"Avg Total Purchase per Person\":SNAge[\"Price\"].mean()})\n",
    "AgeData2[[\"Average Purchase Price\",\"Total Purchase Value\",\"Avg Total Purchase per Person\"]]=AgeData2[[\"Average Purchase Price\",\"Total Purchase Value\",\"Avg Total Purchase per Person\"]].applymap(\"${0:.2f}\".format)\n",
    "\n",
    "AgeData2.reindex( [\"<10\", \"10-14\", \"15-19\", \"20-24\", \"25-29\",\"30-34\",\"35-39\",\"40+\"])"
   ]
  },
  {
   "cell_type": "markdown",
   "metadata": {},
   "source": [
    "## Top Spenders"
   ]
  },
  {
   "cell_type": "markdown",
   "metadata": {},
   "source": [
    "* Run basic calculations to obtain the results in the table below\n",
    "\n",
    "\n",
    "* Create a summary data frame to hold the results\n",
    "\n",
    "\n",
    "* Sort the total purchase value column in descending order\n",
    "\n",
    "\n",
    "* Optional: give the displayed data cleaner formatting\n",
    "\n",
    "\n",
    "* Display a preview of the summary data frame\n",
    "\n"
   ]
  },
  {
   "cell_type": "code",
   "execution_count": null,
   "metadata": {},
   "outputs": [],
   "source": [
    "TopSpenders=pd.DataFrame({\"Purchase Count\":SNGroup[\"Price\"].count(),\n",
    "                          \"Average Purchase Price\":SNGroup[\"Price\"].mean(),\n",
    "                          \"Total Purchase Value\":SNGroup[\"Price\"].sum(),})\n",
    "\n",
    "TopSpenders=TopSpenders.nlargest(5, 'Total Purchase Value')\n",
    "TopSpenders[[\"Average Purchase Price\",\"Total Purchase Value\"]]=TopSpenders[[\"Average Purchase Price\",\"Total Purchase Value\"]].applymap(\"${0:.2f}\".format)\n",
    "TopSpenders"
   ]
  },
  {
   "cell_type": "markdown",
   "metadata": {},
   "source": [
    "## Most Popular Items"
   ]
  },
  {
   "cell_type": "markdown",
   "metadata": {},
   "source": [
    "* Retrieve the Item ID, Item Name, and Item Price columns\n",
    "\n",
    "\n",
    "* Group by Item ID and Item Name. Perform calculations to obtain purchase count, item price, and total purchase value\n",
    "\n",
    "\n",
    "* Create a summary data frame to hold the results\n",
    "\n",
    "\n",
    "* Sort the purchase count column in descending order\n",
    "\n",
    "\n",
    "* Optional: give the displayed data cleaner formatting\n",
    "\n",
    "\n",
    "* Display a preview of the summary data frame\n",
    "\n"
   ]
  },
  {
   "cell_type": "code",
   "execution_count": null,
   "metadata": {},
   "outputs": [],
   "source": [
    "ItemsData=purchase_data.groupby([\"Item ID\",\"Item Name\"])\n",
    "\n",
    "PopItems=pd.DataFrame({\"Purchase Count\":ItemsData[\"Price\"].count(),\n",
    "                       \"Item Price\":ItemsData[\"Price\"].mean(),\n",
    "                       \"Total Purchase Value\":ItemsData[\"Price\"].count()*ItemsData[\"Price\"].mean()})\n",
    "PopItems2=PopItems\n",
    "PopItems=PopItems.nlargest(5, 'Purchase Count')\n",
    "PopItems[[\"Item Price\",\"Total Purchase Value\"]]=PopItems[[\"Item Price\",\"Total Purchase Value\"]].applymap(\"${0:.2f}\".format)\n",
    "PopItems.sort_index(ascending=False)"
   ]
  },
  {
   "cell_type": "markdown",
   "metadata": {},
   "source": [
    "## Most Profitable Items"
   ]
  },
  {
   "cell_type": "markdown",
   "metadata": {},
   "source": [
    "* Sort the above table by total purchase value in descending order\n",
    "\n",
    "\n",
    "* Optional: give the displayed data cleaner formatting\n",
    "\n",
    "\n",
    "* Display a preview of the data frame\n",
    "\n"
   ]
  },
  {
   "cell_type": "code",
   "execution_count": null,
   "metadata": {
    "scrolled": true
   },
   "outputs": [],
   "source": [
    "# The instructions differ from the output in the example.\n",
    "# In this cell I will print what is expected in the example\n",
    "# In the next cell I will show the output that is requeried by the instructions.\n",
    "\n",
    "# Solution A\n",
    "\n",
    "PopItemsa=PopItems2.nlargest(5, 'Total Purchase Value')\n",
    "PopItemsa[[\"Item Price\",\"Total Purchase Value\"]]=PopItemsa[[\"Item Price\",\"Total Purchase Value\"]].applymap(\"${0:.2f}\".format)\n",
    "PopItemsa"
   ]
  },
  {
   "cell_type": "code",
   "execution_count": null,
   "metadata": {},
   "outputs": [],
   "source": [
    "# Solution B\n",
    "\n",
    "PopItemsb=PopItems2.nlargest(5, 'Purchase Count')\n",
    "PopItemsb.sort_values('Total Purchase Value',ascending=False)\n",
    "PopItemsb[[\"Item Price\",\"Total Purchase Value\"]]=PopItemsb[[\"Item Price\",\"Total Purchase Value\"]].applymap(\"${0:.2f}\".format)\n",
    "PopItemsb"
   ]
  },
  {
   "cell_type": "code",
   "execution_count": null,
   "metadata": {},
   "outputs": [],
   "source": []
  }
 ],
 "metadata": {
  "anaconda-cloud": {},
  "kernel_info": {
   "name": "python3"
  },
  "kernelspec": {
   "display_name": "Python 3",
   "language": "python",
   "name": "python3"
  },
  "language_info": {
   "codemirror_mode": {
    "name": "ipython",
    "version": 3
   },
   "file_extension": ".py",
   "mimetype": "text/x-python",
   "name": "python",
   "nbconvert_exporter": "python",
   "pygments_lexer": "ipython3",
   "version": "3.6.7"
  },
  "latex_envs": {
   "LaTeX_envs_menu_present": true,
   "autoclose": false,
   "autocomplete": true,
   "bibliofile": "biblio.bib",
   "cite_by": "apalike",
   "current_citInitial": 1,
   "eqLabelWithNumbers": true,
   "eqNumInitial": 1,
   "hotkeys": {
    "equation": "Ctrl-E",
    "itemize": "Ctrl-I"
   },
   "labels_anchors": false,
   "latex_user_defs": false,
   "report_style_numbering": false,
   "user_envs_cfg": false
  },
  "nteract": {
   "version": "0.2.0"
  }
 },
 "nbformat": 4,
 "nbformat_minor": 2
}
